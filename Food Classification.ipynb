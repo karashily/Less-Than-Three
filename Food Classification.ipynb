{
 "cells": [
  {
   "cell_type": "code",
   "execution_count": 1,
   "metadata": {},
   "outputs": [],
   "source": [
    "from tensorflow import keras\n",
    "from tensorflow.keras.models import Sequential\n",
    "from tensorflow.keras.layers import Dense, Flatten, Dropout\n",
    "from tensorflow.keras.layers import Conv2D, MaxPooling2D\n",
    "import numpy as np\n",
    "from tensorflow.keras.utils import to_categorical\n",
    "from tensorflow.keras.optimizers import Adam\n",
    "\n",
    "from tensorflow.keras.datasets import cifar10\n",
    "import cv2\n",
    "import os\n",
    "from sklearn.model_selection import train_test_split\n",
    "from numpy.random import default_rng"
   ]
  },
  {
   "cell_type": "code",
   "execution_count": 2,
   "metadata": {},
   "outputs": [],
   "source": [
    "def read_data(data_dir):\n",
    "    x, y = [], []\n",
    "    labels = os.listdir(data_dir)\n",
    "    labels = np.array(labels)\n",
    "    rng = default_rng()\n",
    "    numbers = rng.choice(101, size=20, replace=False)\n",
    "    labels = labels[numbers]\n",
    "    for i in range(len(labels)):\n",
    "        imgs_paths = os.listdir(data_dir+'/'+labels[i])\n",
    "        for img_path in imgs_paths:\n",
    "            img = cv2.imread(data_dir+'/'+labels[i]+'/'+img_path)\n",
    "            img = cv2.resize(img, (32, 32))\n",
    "            img = img.astype(\"float32\")\n",
    "            img /= 255\n",
    "            x.append(img)\n",
    "            y.append(i)\n",
    "    return np.array(x), np.array(y)"
   ]
  },
  {
   "cell_type": "code",
   "execution_count": 3,
   "metadata": {},
   "outputs": [],
   "source": [
    "X, Y = read_data('images')"
   ]
  },
  {
   "cell_type": "code",
   "execution_count": 4,
   "metadata": {},
   "outputs": [
    {
     "data": {
      "text/plain": [
       "0"
      ]
     },
     "execution_count": 4,
     "metadata": {},
     "output_type": "execute_result"
    }
   ],
   "source": [
    "min(Y)"
   ]
  },
  {
   "cell_type": "code",
   "execution_count": 5,
   "metadata": {},
   "outputs": [],
   "source": [
    "Y = to_categorical(Y, num_classes=20)"
   ]
  },
  {
   "cell_type": "code",
   "execution_count": 6,
   "metadata": {},
   "outputs": [
    {
     "data": {
      "text/plain": [
       "(20000, 20)"
      ]
     },
     "execution_count": 6,
     "metadata": {},
     "output_type": "execute_result"
    }
   ],
   "source": [
    "Y.shape"
   ]
  },
  {
   "cell_type": "code",
   "execution_count": 7,
   "metadata": {},
   "outputs": [],
   "source": [
    "X_train, X_test, Y_train, Y_test = train_test_split(X, Y, test_size=0.33)"
   ]
  },
  {
   "cell_type": "code",
   "execution_count": 8,
   "metadata": {},
   "outputs": [
    {
     "data": {
      "text/plain": [
       "((13400, 32, 32, 3), (6600, 32, 32, 3), (13400, 20), (6600, 20))"
      ]
     },
     "execution_count": 8,
     "metadata": {},
     "output_type": "execute_result"
    }
   ],
   "source": [
    "X_train.shape, X_test.shape, Y_train.shape, Y_test.shape"
   ]
  },
  {
   "cell_type": "code",
   "execution_count": 9,
   "metadata": {},
   "outputs": [],
   "source": [
    "def build_model():\n",
    "    model = Sequential()\n",
    "    model.add(Conv2D(64, (3, 3), strides=(1, 1), input_shape=(32, 32, 3), padding='same', activation='relu',\n",
    "                     kernel_initializer='uniform'))\n",
    "    model.add(Conv2D(64, (3, 3), strides=(1, 1), padding='same', activation='relu', kernel_initializer='uniform'))\n",
    "    model.add(MaxPooling2D(pool_size=(2, 2)))\n",
    "    model.add(Conv2D(128, (3, 2), strides=(1, 1), padding='same', activation='relu', kernel_initializer='uniform'))\n",
    "    model.add(Conv2D(128, (3, 3), strides=(1, 1), padding='same', activation='relu', kernel_initializer='uniform'))\n",
    "    model.add(MaxPooling2D(pool_size=(2, 2)))\n",
    "    model.add(Conv2D(256, (3, 3), strides=(1, 1), padding='same', activation='relu', kernel_initializer='uniform'))\n",
    "    model.add(Conv2D(256, (3, 3), strides=(1, 1), padding='same', activation='relu', kernel_initializer='uniform'))\n",
    "    model.add(MaxPooling2D(pool_size=(2, 2)))\n",
    "    model.add(Conv2D(512, (3, 3), strides=(1, 1), padding='same', activation='relu', kernel_initializer='uniform'))\n",
    "    model.add(Conv2D(512, (3, 3), strides=(1, 1), padding='same', activation='relu', kernel_initializer='uniform'))\n",
    "    model.add(MaxPooling2D(pool_size=(2, 2)))\n",
    "    model.add(Conv2D(512, (3, 3), strides=(1, 1), padding='same', activation='relu', kernel_initializer='uniform'))\n",
    "    model.add(Conv2D(512, (3, 3), strides=(1, 1), padding='same', activation='relu', kernel_initializer='uniform'))\n",
    "    model.add(MaxPooling2D(pool_size=(2, 2)))\n",
    "    model.add(Flatten())\n",
    "    model.add(Dense(4096, activation='relu'))\n",
    "    model.add(Dropout(0.5))\n",
    "    model.add(Dense(4096, activation='relu'))\n",
    "    model.add(Dropout(0.5))\n",
    "    model.add(Dense(20, activation='softmax'))\n",
    "    adam = Adam(lr=1e-5)\n",
    "    model.compile(loss='categorical_crossentropy', optimizer=adam, metrics=['accuracy'])\n",
    "    return model"
   ]
  },
  {
   "cell_type": "code",
   "execution_count": 10,
   "metadata": {},
   "outputs": [],
   "source": [
    "model = build_model()"
   ]
  },
  {
   "cell_type": "code",
   "execution_count": 11,
   "metadata": {},
   "outputs": [
    {
     "name": "stdout",
     "output_type": "stream",
     "text": [
      "Epoch 1/50\n",
      "377/377 [==============================] - 110s 292ms/step - loss: 2.9940 - accuracy: 0.0540 - val_loss: 2.9786 - val_accuracy: 0.0970\n",
      "Epoch 2/50\n",
      "377/377 [==============================] - 105s 278ms/step - loss: 2.8767 - accuracy: 0.0996 - val_loss: 2.7448 - val_accuracy: 0.1313\n",
      "Epoch 3/50\n",
      "377/377 [==============================] - 105s 278ms/step - loss: 2.6953 - accuracy: 0.1407 - val_loss: 2.6371 - val_accuracy: 0.1657\n",
      "Epoch 4/50\n",
      "377/377 [==============================] - 105s 277ms/step - loss: 2.6190 - accuracy: 0.1695 - val_loss: 2.6424 - val_accuracy: 0.1560\n",
      "Epoch 5/50\n",
      "377/377 [==============================] - 105s 277ms/step - loss: 2.5769 - accuracy: 0.1807 - val_loss: 2.6078 - val_accuracy: 0.1940\n",
      "Epoch 6/50\n",
      "377/377 [==============================] - 105s 277ms/step - loss: 2.5405 - accuracy: 0.1924 - val_loss: 2.5558 - val_accuracy: 0.2060\n",
      "Epoch 7/50\n",
      "377/377 [==============================] - 105s 278ms/step - loss: 2.5162 - accuracy: 0.2011 - val_loss: 2.5155 - val_accuracy: 0.2045\n",
      "Epoch 8/50\n",
      "377/377 [==============================] - 105s 278ms/step - loss: 2.4838 - accuracy: 0.2096 - val_loss: 2.5167 - val_accuracy: 0.1940\n",
      "Epoch 9/50\n",
      "377/377 [==============================] - 105s 278ms/step - loss: 2.4599 - accuracy: 0.2197 - val_loss: 2.4828 - val_accuracy: 0.2179\n",
      "Epoch 10/50\n",
      "377/377 [==============================] - 105s 277ms/step - loss: 2.4268 - accuracy: 0.2320 - val_loss: 2.4403 - val_accuracy: 0.2284\n",
      "Epoch 11/50\n",
      "377/377 [==============================] - 105s 278ms/step - loss: 2.4054 - accuracy: 0.2392 - val_loss: 2.4150 - val_accuracy: 0.2381\n",
      "Epoch 12/50\n",
      "377/377 [==============================] - 105s 277ms/step - loss: 2.3804 - accuracy: 0.2430 - val_loss: 2.4227 - val_accuracy: 0.2381\n",
      "Epoch 13/50\n",
      "377/377 [==============================] - 105s 277ms/step - loss: 2.3624 - accuracy: 0.2567 - val_loss: 2.3973 - val_accuracy: 0.2515\n",
      "Epoch 14/50\n",
      "377/377 [==============================] - 105s 278ms/step - loss: 2.3333 - accuracy: 0.2670 - val_loss: 2.3664 - val_accuracy: 0.2597\n",
      "Epoch 15/50\n",
      "377/377 [==============================] - 105s 277ms/step - loss: 2.3197 - accuracy: 0.2733 - val_loss: 2.3794 - val_accuracy: 0.2560\n",
      "Epoch 16/50\n",
      "377/377 [==============================] - 105s 278ms/step - loss: 2.2845 - accuracy: 0.2807 - val_loss: 2.3708 - val_accuracy: 0.2582\n",
      "Epoch 17/50\n",
      "377/377 [==============================] - 105s 278ms/step - loss: 2.2638 - accuracy: 0.2879 - val_loss: 2.3284 - val_accuracy: 0.2873\n",
      "Epoch 18/50\n",
      "377/377 [==============================] - 105s 277ms/step - loss: 2.2429 - accuracy: 0.2930 - val_loss: 2.3262 - val_accuracy: 0.2784\n",
      "Epoch 19/50\n",
      "377/377 [==============================] - 105s 278ms/step - loss: 2.2156 - accuracy: 0.3055 - val_loss: 2.2772 - val_accuracy: 0.2866\n",
      "Epoch 20/50\n",
      "377/377 [==============================] - 105s 278ms/step - loss: 2.1799 - accuracy: 0.3141 - val_loss: 2.2857 - val_accuracy: 0.2940\n",
      "Epoch 21/50\n",
      "377/377 [==============================] - 105s 277ms/step - loss: 2.1601 - accuracy: 0.3197 - val_loss: 2.2712 - val_accuracy: 0.2821\n",
      "Epoch 22/50\n",
      "377/377 [==============================] - 105s 278ms/step - loss: 2.1381 - accuracy: 0.3316 - val_loss: 2.2443 - val_accuracy: 0.2978\n",
      "Epoch 23/50\n",
      "377/377 [==============================] - 105s 278ms/step - loss: 2.1127 - accuracy: 0.3383 - val_loss: 2.2279 - val_accuracy: 0.3090\n",
      "Epoch 24/50\n",
      "377/377 [==============================] - 105s 278ms/step - loss: 2.0796 - accuracy: 0.3514 - val_loss: 2.2515 - val_accuracy: 0.3030\n",
      "Epoch 25/50\n",
      "377/377 [==============================] - 105s 278ms/step - loss: 2.0528 - accuracy: 0.3575 - val_loss: 2.2903 - val_accuracy: 0.2948\n",
      "Epoch 26/50\n",
      "377/377 [==============================] - 105s 278ms/step - loss: 2.0390 - accuracy: 0.3598 - val_loss: 2.1868 - val_accuracy: 0.3201\n",
      "Epoch 27/50\n",
      "377/377 [==============================] - 105s 278ms/step - loss: 2.0036 - accuracy: 0.3689 - val_loss: 2.1653 - val_accuracy: 0.3313\n",
      "Epoch 28/50\n",
      "377/377 [==============================] - 105s 278ms/step - loss: 1.9859 - accuracy: 0.3769 - val_loss: 2.1603 - val_accuracy: 0.3351\n",
      "Epoch 29/50\n",
      "377/377 [==============================] - 105s 278ms/step - loss: 1.9533 - accuracy: 0.3855 - val_loss: 2.1516 - val_accuracy: 0.3388\n",
      "Epoch 30/50\n",
      "377/377 [==============================] - 105s 278ms/step - loss: 1.9248 - accuracy: 0.3959 - val_loss: 2.2641 - val_accuracy: 0.3284\n",
      "Epoch 31/50\n",
      "377/377 [==============================] - 105s 278ms/step - loss: 1.9066 - accuracy: 0.4025 - val_loss: 2.1614 - val_accuracy: 0.3328\n",
      "Epoch 32/50\n",
      "377/377 [==============================] - 105s 278ms/step - loss: 1.8768 - accuracy: 0.4124 - val_loss: 2.1429 - val_accuracy: 0.3455\n",
      "Epoch 33/50\n",
      "377/377 [==============================] - 105s 278ms/step - loss: 1.8491 - accuracy: 0.4211 - val_loss: 2.1452 - val_accuracy: 0.3403\n",
      "Epoch 34/50\n",
      "377/377 [==============================] - 105s 278ms/step - loss: 1.8324 - accuracy: 0.4288 - val_loss: 2.1086 - val_accuracy: 0.3343\n",
      "Epoch 35/50\n",
      "377/377 [==============================] - 105s 279ms/step - loss: 1.7898 - accuracy: 0.4371 - val_loss: 2.1172 - val_accuracy: 0.3440\n",
      "Epoch 36/50\n",
      "377/377 [==============================] - 105s 278ms/step - loss: 1.7677 - accuracy: 0.4433 - val_loss: 2.1282 - val_accuracy: 0.3381\n",
      "Epoch 37/50\n",
      "377/377 [==============================] - 105s 278ms/step - loss: 1.7478 - accuracy: 0.4495 - val_loss: 2.1170 - val_accuracy: 0.3552\n",
      "Epoch 38/50\n",
      "377/377 [==============================] - 105s 278ms/step - loss: 1.7045 - accuracy: 0.4637 - val_loss: 2.1346 - val_accuracy: 0.3493\n",
      "Epoch 39/50\n",
      "377/377 [==============================] - 105s 278ms/step - loss: 1.6722 - accuracy: 0.4711 - val_loss: 2.1191 - val_accuracy: 0.3552\n",
      "Epoch 40/50\n",
      "377/377 [==============================] - 105s 278ms/step - loss: 1.6379 - accuracy: 0.4821 - val_loss: 2.1461 - val_accuracy: 0.3485\n",
      "Epoch 41/50\n",
      "377/377 [==============================] - 105s 278ms/step - loss: 1.6136 - accuracy: 0.4905 - val_loss: 2.1277 - val_accuracy: 0.3530\n",
      "Epoch 42/50\n",
      "377/377 [==============================] - 105s 278ms/step - loss: 1.5794 - accuracy: 0.4978 - val_loss: 2.1048 - val_accuracy: 0.3657\n",
      "Epoch 43/50\n",
      "377/377 [==============================] - 105s 278ms/step - loss: 1.5443 - accuracy: 0.5095 - val_loss: 2.1223 - val_accuracy: 0.3664\n",
      "Epoch 44/50\n",
      "377/377 [==============================] - 105s 278ms/step - loss: 1.5119 - accuracy: 0.5180 - val_loss: 2.1307 - val_accuracy: 0.3575\n",
      "Epoch 45/50\n",
      "377/377 [==============================] - 105s 278ms/step - loss: 1.4933 - accuracy: 0.5289 - val_loss: 2.1569 - val_accuracy: 0.3701\n",
      "Epoch 46/50\n",
      "377/377 [==============================] - 105s 278ms/step - loss: 1.4345 - accuracy: 0.5405 - val_loss: 2.1267 - val_accuracy: 0.3679\n",
      "Epoch 47/50\n",
      "377/377 [==============================] - 105s 278ms/step - loss: 1.3948 - accuracy: 0.5571 - val_loss: 2.1998 - val_accuracy: 0.3590\n",
      "Epoch 48/50\n",
      "377/377 [==============================] - 105s 278ms/step - loss: 1.3578 - accuracy: 0.5676 - val_loss: 2.2087 - val_accuracy: 0.3612\n",
      "Epoch 49/50\n",
      "377/377 [==============================] - 105s 278ms/step - loss: 1.3318 - accuracy: 0.5710 - val_loss: 2.2366 - val_accuracy: 0.3619\n",
      "Epoch 50/50\n",
      "377/377 [==============================] - 105s 278ms/step - loss: 1.2848 - accuracy: 0.5870 - val_loss: 2.2062 - val_accuracy: 0.3776\n"
     ]
    }
   ],
   "source": [
    "history = model.fit(X_train, Y_train, validation_split=0.1, epochs=50, batch_size=32)"
   ]
  },
  {
   "cell_type": "code",
   "execution_count": null,
   "metadata": {},
   "outputs": [],
   "source": []
  }
 ],
 "metadata": {
  "kernelspec": {
   "display_name": "Python 3",
   "language": "python",
   "name": "python3"
  },
  "language_info": {
   "codemirror_mode": {
    "name": "ipython",
    "version": 3
   },
   "file_extension": ".py",
   "mimetype": "text/x-python",
   "name": "python",
   "nbconvert_exporter": "python",
   "pygments_lexer": "ipython3",
   "version": "3.7.0"
  }
 },
 "nbformat": 4,
 "nbformat_minor": 2
}
