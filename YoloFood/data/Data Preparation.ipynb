{
 "cells": [
  {
   "cell_type": "code",
   "execution_count": 1,
   "metadata": {},
   "outputs": [],
   "source": [
    "import os\n",
    "import cv2\n",
    "from sklearn.model_selection import train_test_split"
   ]
  },
  {
   "cell_type": "code",
   "execution_count": 2,
   "metadata": {},
   "outputs": [],
   "source": [
    "datadir = 'UECFOOD100'\n",
    "labels = os.listdir(datadir)"
   ]
  },
  {
   "cell_type": "code",
   "execution_count": 5,
   "metadata": {},
   "outputs": [],
   "source": [
    "def get_box(imgname, bb_info):\n",
    "    ret = []\n",
    "    for i in bb_info:\n",
    "        i = i.split(' ')\n",
    "        if i[0] == imgname:\n",
    "            xmin = int(i[1]) \n",
    "            xmax = int(i[3])\n",
    "            ymin = int(i[2])\n",
    "            ymax = int(i[4])\n",
    "            ans = (xmin, ymin, xmax, ymax)\n",
    "            ret.append(ans)\n",
    "    return ret"
   ]
  },
  {
   "cell_type": "code",
   "execution_count": 6,
   "metadata": {
    "scrolled": true
   },
   "outputs": [
    {
     "name": "stdout",
     "output_type": "stream",
     "text": [
      "UECFOOD100\\1\\bb_info.txt\n",
      "UECFOOD100\\10\\bb_info.txt\n",
      "UECFOOD100\\100\\bb_info.txt\n",
      "UECFOOD100\\11\\bb_info.txt\n",
      "UECFOOD100\\12\\bb_info.txt\n",
      "UECFOOD100\\13\\bb_info.txt\n",
      "UECFOOD100\\14\\bb_info.txt\n",
      "UECFOOD100\\15\\bb_info.txt\n",
      "UECFOOD100\\16\\bb_info.txt\n",
      "UECFOOD100\\17\\bb_info.txt\n",
      "UECFOOD100\\18\\bb_info.txt\n",
      "UECFOOD100\\19\\bb_info.txt\n",
      "UECFOOD100\\2\\bb_info.txt\n",
      "UECFOOD100\\20\\bb_info.txt\n",
      "UECFOOD100\\21\\bb_info.txt\n",
      "UECFOOD100\\22\\bb_info.txt\n",
      "UECFOOD100\\23\\bb_info.txt\n",
      "UECFOOD100\\24\\bb_info.txt\n",
      "UECFOOD100\\25\\bb_info.txt\n",
      "UECFOOD100\\26\\bb_info.txt\n",
      "UECFOOD100\\27\\bb_info.txt\n",
      "UECFOOD100\\28\\bb_info.txt\n",
      "UECFOOD100\\29\\bb_info.txt\n",
      "UECFOOD100\\3\\bb_info.txt\n",
      "UECFOOD100\\30\\bb_info.txt\n",
      "UECFOOD100\\31\\bb_info.txt\n",
      "UECFOOD100\\32\\bb_info.txt\n",
      "UECFOOD100\\33\\bb_info.txt\n",
      "UECFOOD100\\34\\bb_info.txt\n",
      "UECFOOD100\\35\\bb_info.txt\n",
      "UECFOOD100\\36\\bb_info.txt\n",
      "UECFOOD100\\37\\bb_info.txt\n",
      "UECFOOD100\\38\\bb_info.txt\n",
      "UECFOOD100\\39\\bb_info.txt\n",
      "UECFOOD100\\4\\bb_info.txt\n",
      "UECFOOD100\\40\\bb_info.txt\n",
      "UECFOOD100\\41\\bb_info.txt\n",
      "UECFOOD100\\42\\bb_info.txt\n",
      "UECFOOD100\\43\\bb_info.txt\n",
      "UECFOOD100\\44\\bb_info.txt\n",
      "UECFOOD100\\45\\bb_info.txt\n",
      "UECFOOD100\\46\\bb_info.txt\n",
      "UECFOOD100\\47\\bb_info.txt\n",
      "UECFOOD100\\48\\bb_info.txt\n",
      "UECFOOD100\\49\\bb_info.txt\n",
      "UECFOOD100\\5\\bb_info.txt\n",
      "UECFOOD100\\50\\bb_info.txt\n",
      "UECFOOD100\\51\\bb_info.txt\n",
      "UECFOOD100\\52\\bb_info.txt\n",
      "UECFOOD100\\53\\bb_info.txt\n",
      "UECFOOD100\\54\\bb_info.txt\n",
      "UECFOOD100\\55\\bb_info.txt\n",
      "UECFOOD100\\56\\bb_info.txt\n",
      "UECFOOD100\\57\\bb_info.txt\n",
      "UECFOOD100\\58\\bb_info.txt\n",
      "UECFOOD100\\59\\bb_info.txt\n",
      "UECFOOD100\\6\\bb_info.txt\n",
      "UECFOOD100\\60\\bb_info.txt\n",
      "UECFOOD100\\61\\bb_info.txt\n",
      "UECFOOD100\\62\\bb_info.txt\n",
      "UECFOOD100\\63\\bb_info.txt\n",
      "UECFOOD100\\64\\bb_info.txt\n",
      "UECFOOD100\\65\\bb_info.txt\n",
      "UECFOOD100\\66\\bb_info.txt\n",
      "UECFOOD100\\67\\bb_info.txt\n",
      "UECFOOD100\\68\\bb_info.txt\n",
      "UECFOOD100\\69\\bb_info.txt\n",
      "UECFOOD100\\7\\bb_info.txt\n",
      "UECFOOD100\\70\\bb_info.txt\n",
      "UECFOOD100\\71\\bb_info.txt\n",
      "UECFOOD100\\72\\bb_info.txt\n",
      "UECFOOD100\\73\\bb_info.txt\n",
      "UECFOOD100\\74\\bb_info.txt\n",
      "UECFOOD100\\75\\bb_info.txt\n",
      "UECFOOD100\\76\\bb_info.txt\n",
      "UECFOOD100\\77\\bb_info.txt\n",
      "UECFOOD100\\78\\bb_info.txt\n",
      "UECFOOD100\\79\\bb_info.txt\n",
      "UECFOOD100\\8\\bb_info.txt\n",
      "UECFOOD100\\80\\bb_info.txt\n",
      "UECFOOD100\\81\\bb_info.txt\n",
      "UECFOOD100\\82\\bb_info.txt\n",
      "UECFOOD100\\83\\bb_info.txt\n",
      "UECFOOD100\\84\\bb_info.txt\n",
      "UECFOOD100\\85\\bb_info.txt\n",
      "UECFOOD100\\86\\bb_info.txt\n",
      "UECFOOD100\\87\\bb_info.txt\n",
      "UECFOOD100\\88\\bb_info.txt\n",
      "UECFOOD100\\89\\bb_info.txt\n",
      "UECFOOD100\\9\\bb_info.txt\n",
      "UECFOOD100\\90\\bb_info.txt\n",
      "UECFOOD100\\91\\bb_info.txt\n",
      "UECFOOD100\\92\\bb_info.txt\n",
      "UECFOOD100\\93\\bb_info.txt\n",
      "UECFOOD100\\94\\bb_info.txt\n",
      "UECFOOD100\\95\\bb_info.txt\n",
      "UECFOOD100\\96\\bb_info.txt\n",
      "UECFOOD100\\97\\bb_info.txt\n",
      "UECFOOD100\\98\\bb_info.txt\n",
      "UECFOOD100\\99\\bb_info.txt\n"
     ]
    }
   ],
   "source": [
    "for label in labels:\n",
    "    imgs = os.listdir(f'{datadir}\\\\{label}')\n",
    "    bb_info = open(f\"{datadir}\\\\{label}\\\\bb_info.txt\",'r').readlines()\n",
    "    \n",
    "    for path in imgs:\n",
    "        img = cv2.imread(f\"{datadir}\\\\{label}\\\\{path}\")\n",
    "        if img is not None and img.shape != (0,0,3):\n",
    "            cv2.imwrite(f'images\\\\{path}', img)\n",
    "            \n",
    "            imgname = path.split('.')[0]\n",
    "            found = os.path.isfile(f'labels\\\\{imgname}.txt')\n",
    "            if found:\n",
    "                file = open(f'labels\\\\{imgname}.txt','a')\n",
    "            else:\n",
    "                file = open(f'labels\\\\{imgname}.txt','w')\n",
    "            boxes = get_box(imgname, bb_info)\n",
    "\n",
    "            for x_center, y_center, width, height in boxes:\n",
    "                file.write(f\"{int(label)-1} {x_center} {y_center} {width} {height}\\n\")\n",
    "\n",
    "        else:\n",
    "            print(f\"{datadir}\\\\{label}\\\\{path}\")"
   ]
  },
  {
   "cell_type": "code",
   "execution_count": 7,
   "metadata": {},
   "outputs": [],
   "source": [
    "datadir = 'labels/'\n",
    "labels = os.listdir(datadir)\n",
    "annot_file = open(f'annotations.txt', 'w')"
   ]
  },
  {
   "cell_type": "code",
   "execution_count": 8,
   "metadata": {},
   "outputs": [],
   "source": [
    "def get_box_info(line):\n",
    "    line = line.split(' ')\n",
    "    x_min = int(float(line[1]))\n",
    "    y_min = int(float(line[2]))\n",
    "    x_max = int(float(line[3]))\n",
    "    y_max = int(float(line[4]))\n",
    "    class_id = line[0]\n",
    "    return f\"{x_min},{y_min},{x_max},{y_max},{class_id}\""
   ]
  },
  {
   "cell_type": "code",
   "execution_count": 9,
   "metadata": {
    "scrolled": true
   },
   "outputs": [],
   "source": [
    "for label in labels:\n",
    "    bb_info = open(f\"labels\\\\{label}\",'r').readlines()\n",
    "    filename = label.split('.')[0]\n",
    "    annot_file.write(f\"data\\\\images\\\\{filename}.jpg \")\n",
    "    for line in bb_info:\n",
    "        box_info = get_box_info(line)\n",
    "        annot_file.write(box_info+' ')\n",
    "    annot_file.write('\\n')\n",
    "annot_file.close()"
   ]
  },
  {
   "cell_type": "code",
   "execution_count": 10,
   "metadata": {},
   "outputs": [
    {
     "data": {
      "text/plain": [
       "'0,0,0,0,0'"
      ]
     },
     "execution_count": 10,
     "metadata": {},
     "output_type": "execute_result"
    }
   ],
   "source": [
    "get_box_info('0 0.5016666666666667 0.479375 0.9366666666666666 0.43875')"
   ]
  },
  {
   "cell_type": "code",
   "execution_count": null,
   "metadata": {},
   "outputs": [],
   "source": []
  },
  {
   "cell_type": "code",
   "execution_count": null,
   "metadata": {},
   "outputs": [],
   "source": []
  }
 ],
 "metadata": {
  "kernelspec": {
   "display_name": "Python 3",
   "language": "python",
   "name": "python3"
  },
  "language_info": {
   "codemirror_mode": {
    "name": "ipython",
    "version": 3
   },
   "file_extension": ".py",
   "mimetype": "text/x-python",
   "name": "python",
   "nbconvert_exporter": "python",
   "pygments_lexer": "ipython3",
   "version": "3.7.0"
  }
 },
 "nbformat": 4,
 "nbformat_minor": 2
}
